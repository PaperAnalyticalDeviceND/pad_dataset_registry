{
  "cells": [
    {
      "cell_type": "markdown",
      "metadata": {
        "id": "g25AOynKHDUF"
      },
      "source": [
        "\n",
        "# Accessing PAD Datasets\n",
        "\n",
        "**Welcome to our Quick Start Guide!** In this notebook, we'll walk you through how to access datasets from the [PaperAnalyticalDeviceND dataset registry](https://github.com/PaperAnalyticalDeviceND/pad_dataset_registry) for model training.\n",
        "\n",
        "You'll find detailed instructions on setting up your environment, installing necessary dependencies, exploring available datasets, downloading your chosen dataset, storing it, and visualizing its metadata.\n",
        "\n",
        "**User-Friendly:** Though tailored for Google Colab, this guide is compatible with any environment that supports Python 3.9 or newer.\n",
        "\n",
        "Should you have any questions or require further assistance, please feel free to reach out to pmoreira@nd.edu.\n",
        "\n",
        "Enjoy exploring the datasets and happy modeling!\n",
        "\n"
      ]
    },
    {
      "cell_type": "markdown",
      "metadata": {
        "id": "Ry_o4SzpBbQh"
      },
      "source": [
        "# Setup Enviroment"
      ]
    },
    {
      "cell_type": "code",
      "execution_count": null,
      "metadata": {
        "id": "YPXUknTBzb6O"
      },
      "outputs": [],
      "source": [
        "# Install dependencies\n",
        "!pip install dvc dvc-gdrive &> /dev/null\n",
        "\n",
        "DEV_FNAME = 'metadata_dev.csv'\n",
        "TEST_FNAME = 'metadata_test.csv'\n",
        "DEV_IMAGES_PATH = 'dev_images'\n",
        "TEST_IMAGES_PATH = 'test_images'\n",
        "REPORT_PATH = 'report'"
      ]
    },
    {
      "cell_type": "markdown",
      "metadata": {
        "id": "--39Rjm9zg0W"
      },
      "source": [
        "# **List** Datasets"
      ]
    },
    {
      "cell_type": "code",
      "execution_count": null,
      "metadata": {
        "id": "b2vqsmM4zkN-"
      },
      "outputs": [],
      "source": [
        "!dvc list  https://github.com/PaperAnalyticalDeviceND/pad_dataset_registry datasets"
      ]
    },
    {
      "cell_type": "markdown",
      "metadata": {
        "id": "x9ePBiYmzlz6"
      },
      "source": [
        "# **Download** a dataset from the previous dataset list"
      ]
    },
    {
      "cell_type": "code",
      "execution_count": null,
      "metadata": {
        "id": "_Pkb_e3lyqiJ"
      },
      "outputs": [],
      "source": [
        "# Add to `dataset_name` one of the listed datasets\n",
        "dataset_name = 'FHI2020_Stratified_Sampling'"
      ]
    },
    {
      "cell_type": "code",
      "execution_count": null,
      "metadata": {
        "id": "l2gAL7K03J16"
      },
      "outputs": [],
      "source": [
        "import csv, os\n",
        "import requests\n",
        "from concurrent.futures import ThreadPoolExecutor\n",
        "from tqdm import tqdm\n",
        "\n",
        "def download_file(url, filename, images_path):\n",
        "    \"\"\"Download a file from a URL and save it to a local file.\"\"\"\n",
        "    response = requests.get(url, stream=True)\n",
        "    if response.status_code == 200:\n",
        "        path = os.path.join(images_path, filename)\n",
        "        with open(path, 'wb') as f:\n",
        "            for chunk in response.iter_content(1024):\n",
        "                f.write(chunk)\n",
        "\n",
        "def download_files_from_csv_file(file_path, images_path):\n",
        "    \"\"\"Download files in parallel based on URLs from a CSV file with a progress bar.\"\"\"\n",
        "    # Open the CSV file and parse its content\n",
        "    with open(file_path, newline='') as csvfile:\n",
        "        rows = list(csv.DictReader(csvfile)) # Convert to list for tqdm\n",
        "\n",
        "        # Initialize tqdm for the progress bar\n",
        "        pbar = tqdm(total=len(rows), desc=\"Downloading files\")\n",
        "\n",
        "        def update(*args):\n",
        "            # Update the progress bar by one each time a file is downloaded\n",
        "            pbar.update()\n",
        "\n",
        "        # Use ThreadPoolExecutor to download files in parallel\n",
        "        with ThreadPoolExecutor(max_workers=10) as executor:\n",
        "            futures = []\n",
        "            for row in rows:\n",
        "                url = row['url']\n",
        "                filename = row['image_name']\n",
        "                # Schedule the download task\n",
        "                future = executor.submit(download_file, url, filename, images_path)\n",
        "                future.add_done_callback(update)\n",
        "                futures.append(future)\n",
        "\n",
        "            # Wait for all futures to complete\n",
        "            for future in futures:\n",
        "                future.result()\n",
        "\n",
        "        # Close the progress bar\n",
        "        pbar.close()\n",
        "\n",
        "\n",
        "import os\n",
        "\n",
        "# create a folder to save all dataset files\n",
        "os.mkdir(dataset_name)\n",
        "\n",
        "# Folder to save the images inside the dataset folder\n",
        "images_path = os.path.join(dataset_name, DEV_IMAGES_PATH)\n",
        "os.mkdir(images_path)\n",
        "\n",
        "# Path to save the dev metadata file inside the dataset folder\n",
        "dev_metadata_path = os.path.join(dataset_name, DEV_FNAME)\n",
        "\n",
        "# Path to save the test metadata file inside the dataset folder\n",
        "test_metadata_path = os.path.join(dataset_name, TEST_FNAME)\n",
        "\n",
        "# Download the DEV metadata file\n",
        "!dvc get  https://github.com/PaperAnalyticalDeviceND/pad_dataset_registry datasets/$dataset_name/$DEV_FNAME -o  $dataset_name/$DEV_FNAME\n",
        "\n",
        "# Start downloading image files for the dev set\n",
        "download_files_from_csv_file(dev_metadata_path, images_path)\n",
        "\n",
        "# Uncomment to download the TEST metadata file\n",
        "#!dvc get https://github.com/PaperAnalyticalDeviceND/pad_dataset_registry datasets/$dataset_name/$TEST_FNAME -o  $dataset_name/$TEST_FNAME\n",
        "\n",
        "# Uncomment to start downloading image files for the test set\n",
        "# download_files_from_csv_file(test_metadata_path, images_path)\n"
      ]
    },
    {
      "cell_type": "markdown",
      "metadata": {
        "id": "ql_oHKpQ3mBc"
      },
      "source": [
        "# **Save** the dataset"
      ]
    },
    {
      "cell_type": "markdown",
      "metadata": {
        "id": "PSdX-FS83rm2"
      },
      "source": [
        "> ## Save it in a folder in your Google Drive (recomended)"
      ]
    },
    {
      "cell_type": "code",
      "execution_count": null,
      "metadata": {
        "colab": {
          "base_uri": "https://localhost:8080/"
        },
        "id": "XUD9-w0S3nwH",
        "outputId": "a1e8de6f-71b2-41ee-db14-dad6087c5cc6"
      },
      "outputs": [
        {
          "name": "stdout",
          "output_type": "stream",
          "text": [
            "Mounted at /content/drive\n"
          ]
        }
      ],
      "source": [
        "from google.colab import drive\n",
        "drive.mount('/content/drive')\n",
        "my_path = \"/content/drive/MyDrive/\"\n",
        "\n",
        "!cp -r $dataset_name/ $my_path"
      ]
    },
    {
      "cell_type": "markdown",
      "metadata": {
        "id": "mtYZtsLG31cj"
      },
      "source": [
        "> ## Or save it on your computer (slow)\n",
        "\n",
        "\n",
        "\n",
        "> Uncomment the lines so you can save the dataset in your computer\n",
        "\n"
      ]
    },
    {
      "cell_type": "code",
      "execution_count": null,
      "metadata": {
        "id": "EQAX71F733c3"
      },
      "outputs": [],
      "source": [
        "# from google.colab import files\n",
        "\n",
        "# !zip -r $dataset_name.zip $dataset_name/ &> /dev/null\n",
        "# files.download(f\"{dataset_name}.zip\")"
      ]
    },
    {
      "cell_type": "markdown",
      "metadata": {
        "id": "QGZIdgS4Likh"
      },
      "source": [
        "# Visualize the metadata"
      ]
    },
    {
      "cell_type": "code",
      "execution_count": null,
      "metadata": {
        "id": "T9jLhU_IK7vJ"
      },
      "outputs": [],
      "source": [
        "# Visualize the metadata using pandas\n",
        "import pandas as pd\n",
        "\n",
        "data = pd.read_csv(dev_metadata_path)\n",
        "\n",
        "data"
      ]
    }
  ],
  "metadata": {
    "colab": {
      "provenance": []
    },
    "kernelspec": {
      "display_name": "Python 3",
      "name": "python3"
    },
    "language_info": {
      "name": "python"
    }
  },
  "nbformat": 4,
  "nbformat_minor": 0
}
