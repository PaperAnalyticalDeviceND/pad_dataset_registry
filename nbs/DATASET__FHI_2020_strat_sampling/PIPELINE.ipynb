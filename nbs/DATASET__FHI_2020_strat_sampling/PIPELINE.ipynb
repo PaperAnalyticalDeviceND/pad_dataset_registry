{
 "cells": [
  {
   "cell_type": "markdown",
   "metadata": {},
   "source": [
    "# <a id='toc1_'></a>[**Dataset Pipeline**: **`FHI_2020_strat_sampling`**](#toc0_)\n",
    "\n",
    "This notebook defines the main steps in the `FHI_2020_strat_sampling` dataset pipeline.\n",
    "\n",
    "\n",
    "---"
   ]
  },
  {
   "cell_type": "markdown",
   "metadata": {},
   "source": [
    "**Table of contents**<a id='toc0_'></a>    \n",
    "- [**Dataset Pipeline**: **`FHI_2020_strat_sampling`**](#dataset-pipeline-fhi_2020_strat_sampling)\n",
    "\t- [Planning (PLN)](#planning-pln)\n",
    "\t- [Data Exploration (EXP)](#data-exploration-exp)\n",
    "\t- [Data Preprocessing (PREP)](#data-preprocessing-prep)\n",
    "\t- [Dataset Compilation \\& Partitioning (COMP)](#dataset-compilation--partitioning-comp)\n",
    "\t- [Reporting and Documentation (RPT)](#reporting-and-documentation-rpt)\n",
    "\n",
    "<!-- vscode-jupyter-toc-config\n",
    "\tnumbering=false\n",
    "\tanchor=true\n",
    "\tflat=false\n",
    "\tminLevel=1\n",
    "\tmaxLevel=6\n",
    "\t/vscode-jupyter-toc-config -->\n",
    "<!-- THIS CELL WILL BE REPLACED ON TOC UPDATE. DO NOT WRITE YOUR TEXT IN THIS CELL -->"
   ]
  },
  {
   "cell_type": "markdown",
   "metadata": {},
   "source": [
    "---"
   ]
  },
  {
   "cell_type": "markdown",
   "metadata": {},
   "source": [
    "\n",
    "## <a id='toc1_1_'></a>[Planning (PLN)](#toc0_)\n",
    "\n",
    "**Objective:** Define the dataset's purpose, scope, and objectives. Identify potential data sources and outline the methodology used throughout the pipeline.\n",
    "\n",
    "- **Define project goals:** The dataset will test different PAD quantification and classification solutions.\n",
    "- **Identify data sources:** Projects FHI2020-id-11, FHI2022-id-12 and FHI360-id-13.\n",
    "- **Consider constraints:** Although we will use DVC for version control, The dataset must be easily downloaded without special requirements. \n",
    "\n",
    "## <a id='toc1_2_'></a>[Data Exploration (EXP)](#toc0_)\n",
    "\n",
    "**Objective:** Explore and analyze the data available from each identified source to understand its structure, quality, and potential usefulness.\n",
    "\n",
    "Data exploration can be found in the following notebooks:\n",
    "\n",
    "- [EXP__project-FHI2020-id-11.ipynb](./EXP/EXP__project-FHI2020-id-11.ipynb)\n",
    "- [EXP__project-FHI2022-id-12.ipynb](./EXP/EXP__project-FHI2022-id-12.ipynb)\n",
    "- [EXP__project-FHI360-id-13.ipynb](./EXP/EXP__project-FHI360-id-13.ipynb)\n",
    "\n",
    "## <a id='toc1_3_'></a>[Data Preprocessing (PREP)](#toc0_)\n",
    "\n",
    "**Objective:** Clean and preprocess the data to ensure it is standardized, error-free, and ready for integration.\n",
    "\n",
    "- [PREP__FHI2020_strat_sampling_part1.ipynb](./PREP/PREP__FHI2020_strat_sampling_part1.ipynb)\n",
    "- [PREP__FHI2020_strat_sampling_part2.ipynb](./PREP/PREP__FHI2020_strat_sampling_part2.ipynb)\n",
    "\n",
    "## <a id='toc1_4_'></a>[Dataset Compilation & Partitioning (COMP)](#toc0_)\n",
    "\n",
    "**Objective:** Integrate data from various sources into a cohesive dataset. Split the data into development and test sets to prepare for model training and evaluation.\n",
    "\n",
    "- [COMP__dataset_FHI_2020_strat_sampling_with_lactose.ipynb](./COMP/COMP__dataset_FHI_2020_strat_sampling_with_lactose.ipynb)\n",
    "\n",
    "## <a id='toc1_5_'></a>[Reporting and Documentation (RPT)](#toc0_)\n",
    "\n",
    "**Objective:** Generate comprehensive reports detailing dataset characteristics, preprocessing steps, and any insights gained during exploration.\n",
    "\n",
    "- **Automate reporting:** Create templates for generating reports summarizing key dataset aspects.\n",
    "- **Maintain metadata:** Store detailed metadata alongside the dataset for easy reference.\n",
    "- **Ensure accessibility:** Make reports and datasets readily available to stakeholders, with clear documentation on access and use.\n"
   ]
  }
 ],
 "metadata": {
  "kernelspec": {
   "display_name": ".venv",
   "language": "python",
   "name": "python3"
  },
  "language_info": {
   "name": "python",
   "version": "3.10.8"
  }
 },
 "nbformat": 4,
 "nbformat_minor": 2
}
