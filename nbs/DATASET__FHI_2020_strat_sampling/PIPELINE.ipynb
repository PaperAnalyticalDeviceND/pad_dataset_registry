{
 "cells": [
  {
   "cell_type": "markdown",
   "metadata": {},
   "source": [
    "# **Dataset Pipeline**: **`FHI_2020_strat_sampling`**\n",
    "\n",
    "This notebook is for define main steps in `FHI_2020_strat_sampling` dataset pipeline.\n",
    "\n",
    "---"
   ]
  },
  {
   "cell_type": "markdown",
   "metadata": {},
   "source": [
    "## 1. Planning (PLN)\n",
    "\n",
    "**Objective:** Define the purpose, scope, and objectives of the dataset. Identify potential data sources and outline the methodology to be used throughout the pipeline."
   ]
  },
  {
   "cell_type": "markdown",
   "metadata": {},
   "source": [
    "- **Define project goals:** The dataset will serve for test different solutions on the PAD quantification and classification.\n",
    "- **Identify data sources:** Projects FHI2020-id-11, FHI2022-id-12 and FHI360-id-13.\n",
    "- **Consider constraints:** Although we will use DVC for version controlling, The dataset must be easily downloaded without any special requirements. "
   ]
  },
  {
   "cell_type": "markdown",
   "metadata": {},
   "source": [
    "## 2. Data Exploration (EXP)\n",
    "\n",
    "**Objective:** Explore and analyze the data available from each identified source to understand its structure, quality, and potential usefulness."
   ]
  },
  {
   "cell_type": "markdown",
   "metadata": {},
   "source": [
    "Until now I have Done Data exploration and saved it in the following notebooks:\n",
    "\n",
    "- [EXP_project-FHI2020-id-11.ipynb](nbs/EXP_project-FHI2020-id-11.ipynb)\n",
    "- [EXP_project-FHI2022-id-12.ipynb](nbs/EXP_project-FHI2022-id-12.ipynb)\n",
    "- [EXP_project-FHI360-id-13.ipynb](nbs/EXP_project-FHI360-id-13.ipynb)\n",
    "- [EXP_blanks_rachel.ipynb](nbs/EXP_blanks_rachel.ipynb)"
   ]
  },
  {
   "cell_type": "markdown",
   "metadata": {},
   "source": [
    "## 3. Data Preprocessing (PREP)\n",
    "\n",
    "**Objective:** Clean and preprocess the data to ensure it is standardized, free of errors, and ready for integration.\n"
   ]
  },
  {
   "cell_type": "markdown",
   "metadata": {},
   "source": [
    "- [PREP_FHI_2020_data.ipynb](nbs/PREP_FHI_2020_data.ipynb)"
   ]
  },
  {
   "cell_type": "markdown",
   "metadata": {},
   "source": [
    "## 4. Dataset Compilation & Partitioning (COMP)\n",
    "\n",
    "**Objective:** Integrate data from various sources into a cohesive dataset. Split the data into development and test sets to prepare for model training and evaluation."
   ]
  },
  {
   "cell_type": "markdown",
   "metadata": {},
   "source": [
    "- [COMP_dataset_FHI_2020_strat_sampling_with_distractors.ipynb](nbs/COMP_dataset_FHI_2020_strat_sampling_with_distractors.ipynb)"
   ]
  },
  {
   "cell_type": "markdown",
   "metadata": {},
   "source": [
    "## 5. Reporting and Documentation (RPT)\n",
    "\n",
    "**Objective:** Generate comprehensive reports detailing dataset characteristics, preprocessing steps taken, and any insights gained during exploration.\n",
    "\n",
    "- **Automate reporting:** Create templates for generating reports that summarize key dataset aspects.\n",
    "- **Maintain metadata:** Store detailed metadata alongside the dataset for easy reference.\n",
    "- **Ensure accessibility:** Make reports and datasets readily available to stakeholders, with clear documentation on access and use."
   ]
  }
 ],
 "metadata": {
  "kernelspec": {
   "display_name": ".venv",
   "language": "python",
   "name": "python3"
  },
  "language_info": {
   "name": "python",
   "version": "3.10.8"
  }
 },
 "nbformat": 4,
 "nbformat_minor": 2
}
