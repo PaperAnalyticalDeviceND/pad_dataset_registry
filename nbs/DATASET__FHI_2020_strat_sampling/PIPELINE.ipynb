{
 "cells": [
  {
   "cell_type": "markdown",
   "metadata": {},
   "source": [
    "# <a id='toc1_'></a>[**Dataset Pipeline**: **`FHI_2020_strat_sampling`**](#toc0_)\n",
    "\n",
    "This notebook is for define main steps in `FHI_2020_strat_sampling` dataset pipeline.\n",
    "\n",
    "\n",
    "---"
   ]
  },
  {
   "cell_type": "markdown",
   "metadata": {},
   "source": [
    "**Table of contents**<a id='toc0_'></a>    \n",
    "- [**Dataset Pipeline**: **`FHI_2020_strat_sampling`**](#toc1_)    \n",
    "  - [Planning (PLN)](#toc1_1_)    \n",
    "  - [Data Exploration (EXP)](#toc1_2_)    \n",
    "  - [Data Preprocessing (PREP)](#toc1_3_)    \n",
    "  - [Dataset Compilation & Partitioning (COMP)](#toc1_4_)    \n",
    "  - [Reporting and Documentation (RPT)](#toc1_5_)    \n",
    "\n",
    "<!-- vscode-jupyter-toc-config\n",
    "\tnumbering=false\n",
    "\tanchor=true\n",
    "\tflat=false\n",
    "\tminLevel=1\n",
    "\tmaxLevel=6\n",
    "\t/vscode-jupyter-toc-config -->\n",
    "<!-- THIS CELL WILL BE REPLACED ON TOC UPDATE. DO NOT WRITE YOUR TEXT IN THIS CELL -->"
   ]
  },
  {
   "cell_type": "markdown",
   "metadata": {},
   "source": [
    "---"
   ]
  },
  {
   "cell_type": "markdown",
   "metadata": {},
   "source": [
    "## <a id='toc1_1_'></a>[Planning (PLN)](#toc0_)\n",
    "\n",
    "**Objective:** Define the purpose, scope, and objectives of the dataset. Identify potential data sources and outline the methodology to be used throughout the pipeline."
   ]
  },
  {
   "cell_type": "markdown",
   "metadata": {},
   "source": [
    "- **Define project goals:** The dataset will serve for test different solutions on the PAD quantification and classification.\n",
    "- **Identify data sources:** Projects FHI2020-id-11, FHI2022-id-12 and FHI360-id-13.\n",
    "- **Consider constraints:** Although we will use DVC for version controlling, The dataset must be easily downloaded without any special requirements. "
   ]
  },
  {
   "cell_type": "markdown",
   "metadata": {},
   "source": [
    "## <a id='toc1_2_'></a>[Data Exploration (EXP)](#toc0_)\n",
    "\n",
    "**Objective:** Explore and analyze the data available from each identified source to understand its structure, quality, and potential usefulness."
   ]
  },
  {
   "cell_type": "markdown",
   "metadata": {},
   "source": [
    "Data exploration can be found in the following notebooks:\n",
    "\n",
    "- [EXP_project-FHI2020-id-11.ipynb](EXP/EXP_project-FHI2020-id-11.ipynb)\n",
    "- [EXP_project-FHI2022-id-12.ipynb](EXP/EXP_project-FHI2022-id-12.ipynb)\n",
    "- [EXP_project-FHI360-id-13.ipynb](EXP/EXP_project-FHI360-id-13.ipynb)\n",
    "- [EXP_blanks_rachel.ipynb](EXP/EXP_blanks_rachel.ipynb)"
   ]
  },
  {
   "cell_type": "markdown",
   "metadata": {},
   "source": [
    "## <a id='toc1_3_'></a>[Data Preprocessing (PREP)](#toc0_)\n",
    "\n",
    "**Objective:** Clean and preprocess the data to ensure it is standardized, error-free, and ready for integration.\n"
   ]
  },
  {
   "cell_type": "markdown",
   "metadata": {},
   "source": [
    "- [PREP_FHI_2020_data.ipynb](PREP/PREP_FHI_2020_data.ipynb)"
   ]
  },
  {
   "cell_type": "markdown",
   "metadata": {},
   "source": [
    "## <a id='toc1_4_'></a>[Dataset Compilation & Partitioning (COMP)](#toc0_)\n",
    "\n",
    "**Objective:** Integrate data from various sources into a cohesive dataset. Split the data into development and test sets to prepare for model training and evaluation."
   ]
  },
  {
   "cell_type": "markdown",
   "metadata": {},
   "source": [
    "- [COMP_dataset_FHI_2020_strat_sampling_with_distractors.ipynb](COMP/COMP_dataset_FHI_2020_strat_sampling_with_distractors.ipynb)"
   ]
  },
  {
   "cell_type": "markdown",
   "metadata": {},
   "source": [
    "## <a id='toc1_5_'></a>[Reporting and Documentation (RPT)](#toc0_)\n",
    "\n",
    "**Objective:** Generate comprehensive reports detailing dataset characteristics, preprocessing steps taken, and any insights gained during exploration.\n",
    "\n",
    "- **Automate reporting:** Create templates for generating reports that summarize key dataset aspects.\n",
    "- **Maintain metadata:** Store detailed metadata alongside the dataset for easy reference.\n",
    "- **Ensure accessibility:** Make reports and datasets readily available to stakeholders, with clear documentation on access and use."
   ]
  }
 ],
 "metadata": {
  "kernelspec": {
   "display_name": ".venv",
   "language": "python",
   "name": "python3"
  },
  "language_info": {
   "name": "python",
   "version": "3.10.8"
  }
 },
 "nbformat": 4,
 "nbformat_minor": 2
}
