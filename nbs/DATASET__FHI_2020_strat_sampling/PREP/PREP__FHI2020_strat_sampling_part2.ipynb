{
 "cells": [
  {
   "cell_type": "markdown",
   "id": "af24de97",
   "metadata": {},
   "source": [
    "# **Dataset Pre-Processing**: **`FHI_2020_strat_sampling`** part 2\n",
    "\n",
    "This second part is dedicated to preprocessing data from the `FHI_2022` project, which is intended to contribute to the creation of the `FHI_2020_strat_sampling` dataset.\\\n",
    "More specifically , we will use data of two classes from `FHI2022`, `Blank` and `Swiped-but-not-run` classes.\n",
    "\n",
    "---"
   ]
  },
  {
   "cell_type": "markdown",
   "id": "fc6c4491",
   "metadata": {},
   "source": [
    "## Import main libs"
   ]
  },
  {
   "cell_type": "code",
   "execution_count": 1,
   "id": "bf1cfd0d",
   "metadata": {},
   "outputs": [],
   "source": [
    "import sys\n",
    "#import ipyplot\n",
    "import pandas as pd\n",
    "import seaborn as sns\n",
    "import matplotlib.pyplot as plt\n",
    "from functools import partial\n",
    "import grequests\n",
    "\n",
    "sys.path.append(\"../../../src/\")\n",
    "from utils import *"
   ]
  },
  {
   "cell_type": "markdown",
   "id": "d3eeb603",
   "metadata": {},
   "source": [
    "## Parameters"
   ]
  },
  {
   "cell_type": "code",
   "execution_count": 2,
   "id": "be5bd045",
   "metadata": {},
   "outputs": [],
   "source": [
    "DATASET_NAME = 'DATASET__FHI_2020_strat_sampling'\n",
    "STORAGE_DIR = f\"../../../data/intermediate/{DATASET_NAME}/\"\n",
    "PROJECT_ID = 12\n",
    "DATA_FNAME = f\"{STORAGE_DIR}/data_project-id-{PROJECT_ID}.csv\""
   ]
  },
  {
   "cell_type": "markdown",
   "id": "4d70f2b2",
   "metadata": {},
   "source": [
    "## load data from the project using PAD API"
   ]
  },
  {
   "cell_type": "code",
   "execution_count": 3,
   "id": "52b4526d",
   "metadata": {},
   "outputs": [
    {
     "data": {
      "text/html": [
       "<div>\n",
       "<style scoped>\n",
       "    .dataframe tbody tr th:only-of-type {\n",
       "        vertical-align: middle;\n",
       "    }\n",
       "\n",
       "    .dataframe tbody tr th {\n",
       "        vertical-align: top;\n",
       "    }\n",
       "\n",
       "    .dataframe thead th {\n",
       "        text-align: right;\n",
       "    }\n",
       "</style>\n",
       "<table border=\"1\" class=\"dataframe\">\n",
       "  <thead>\n",
       "    <tr style=\"text-align: right;\">\n",
       "      <th></th>\n",
       "      <th>id</th>\n",
       "      <th>sample_name</th>\n",
       "      <th>test_name</th>\n",
       "      <th>user_name</th>\n",
       "      <th>date_of_creation</th>\n",
       "      <th>raw_file_location</th>\n",
       "      <th>processed_file_location</th>\n",
       "      <th>processing_date</th>\n",
       "      <th>camera_type_1</th>\n",
       "      <th>notes</th>\n",
       "      <th>...</th>\n",
       "      <th>project.neutral_filler</th>\n",
       "      <th>project.qpc20</th>\n",
       "      <th>project.qpc50</th>\n",
       "      <th>project.qpc80</th>\n",
       "      <th>project.qpc100</th>\n",
       "      <th>project.notes</th>\n",
       "      <th>issue.id</th>\n",
       "      <th>issue.name</th>\n",
       "      <th>issue.description</th>\n",
       "      <th>issue</th>\n",
       "    </tr>\n",
       "  </thead>\n",
       "  <tbody>\n",
       "    <tr>\n",
       "      <th>0</th>\n",
       "      <td>42275</td>\n",
       "      <td>Ampicillin</td>\n",
       "      <td>12LanePADKenya2015</td>\n",
       "      <td>api-5NWT4K7IS60WMLR3J2LV</td>\n",
       "      <td>2022-04-28T12:28:36</td>\n",
       "      <td>/var/www/html/images/padimages/raw/40000/42275...</td>\n",
       "      <td>/var/www/html/images/padimages/processed/40000...</td>\n",
       "      <td>2022-04-28T12:28:36</td>\n",
       "      <td>Google Pixel 3a</td>\n",
       "      <td>{\"Predicted drug\": \"ampicillin\", \"User\": \"Unkn...</td>\n",
       "      <td>...</td>\n",
       "      <td>Lactose</td>\n",
       "      <td>1</td>\n",
       "      <td>1</td>\n",
       "      <td>1</td>\n",
       "      <td>1</td>\n",
       "      <td>FHI360 validation study with real and mock dos...</td>\n",
       "      <td>3.0</td>\n",
       "      <td>Stuck</td>\n",
       "      <td></td>\n",
       "      <td>NaN</td>\n",
       "    </tr>\n",
       "    <tr>\n",
       "      <th>1</th>\n",
       "      <td>42276</td>\n",
       "      <td>Ampicillin</td>\n",
       "      <td>12LanePADKenya2015</td>\n",
       "      <td>api-5NWT4K7IS60WMLR3J2LV</td>\n",
       "      <td>2022-04-28T12:28:55</td>\n",
       "      <td>/var/www/html/images/padimages/raw/40000/42276...</td>\n",
       "      <td>/var/www/html/images/padimages/processed/40000...</td>\n",
       "      <td>2022-04-28T12:28:55</td>\n",
       "      <td>Google Pixel 3a</td>\n",
       "      <td>{\"Predicted drug\": \"ampicillin\", \"User\": \"Unkn...</td>\n",
       "      <td>...</td>\n",
       "      <td>Lactose</td>\n",
       "      <td>1</td>\n",
       "      <td>1</td>\n",
       "      <td>1</td>\n",
       "      <td>1</td>\n",
       "      <td>FHI360 validation study with real and mock dos...</td>\n",
       "      <td>3.0</td>\n",
       "      <td>Stuck</td>\n",
       "      <td></td>\n",
       "      <td>NaN</td>\n",
       "    </tr>\n",
       "    <tr>\n",
       "      <th>2</th>\n",
       "      <td>42277</td>\n",
       "      <td>Ampicillin</td>\n",
       "      <td>12LanePADKenya2015</td>\n",
       "      <td>api-5NWT4K7IS60WMLR3J2LV</td>\n",
       "      <td>2022-04-28T12:29:13</td>\n",
       "      <td>/var/www/html/images/padimages/raw/40000/42277...</td>\n",
       "      <td>/var/www/html/images/padimages/processed/40000...</td>\n",
       "      <td>2022-04-28T12:29:13</td>\n",
       "      <td>Google Pixel 3a</td>\n",
       "      <td>{\"Predicted drug\": \"ampicillin\", \"User\": \"Unkn...</td>\n",
       "      <td>...</td>\n",
       "      <td>Lactose</td>\n",
       "      <td>1</td>\n",
       "      <td>1</td>\n",
       "      <td>1</td>\n",
       "      <td>1</td>\n",
       "      <td>FHI360 validation study with real and mock dos...</td>\n",
       "      <td>3.0</td>\n",
       "      <td>Stuck</td>\n",
       "      <td></td>\n",
       "      <td>NaN</td>\n",
       "    </tr>\n",
       "    <tr>\n",
       "      <th>3</th>\n",
       "      <td>42278</td>\n",
       "      <td>Ampicillin</td>\n",
       "      <td>12LanePADKenya2015</td>\n",
       "      <td>api-5NWT4K7IS60WMLR3J2LV</td>\n",
       "      <td>2022-04-28T12:30:54</td>\n",
       "      <td>/var/www/html/images/padimages/raw/40000/42278...</td>\n",
       "      <td>/var/www/html/images/padimages/processed/40000...</td>\n",
       "      <td>2022-04-28T12:30:54</td>\n",
       "      <td>Google Pixel 3a</td>\n",
       "      <td>{\"Predicted drug\": \"ampicillin\", \"User\": \"Unkn...</td>\n",
       "      <td>...</td>\n",
       "      <td>Lactose</td>\n",
       "      <td>1</td>\n",
       "      <td>1</td>\n",
       "      <td>1</td>\n",
       "      <td>1</td>\n",
       "      <td>FHI360 validation study with real and mock dos...</td>\n",
       "      <td>NaN</td>\n",
       "      <td>NaN</td>\n",
       "      <td>NaN</td>\n",
       "      <td>NaN</td>\n",
       "    </tr>\n",
       "    <tr>\n",
       "      <th>4</th>\n",
       "      <td>42279</td>\n",
       "      <td>Ampicillin</td>\n",
       "      <td>12LanePADKenya2015</td>\n",
       "      <td>api-5NWT4K7IS60WMLR3J2LV</td>\n",
       "      <td>2022-04-28T12:31:39</td>\n",
       "      <td>/var/www/html/images/padimages/raw/40000/42279...</td>\n",
       "      <td>/var/www/html/images/padimages/processed/40000...</td>\n",
       "      <td>2022-04-28T12:31:39</td>\n",
       "      <td>Google Pixel 3a</td>\n",
       "      <td>{\"Predicted drug\": \"ampicillin\", \"User\": \"Unkn...</td>\n",
       "      <td>...</td>\n",
       "      <td>Lactose</td>\n",
       "      <td>1</td>\n",
       "      <td>1</td>\n",
       "      <td>1</td>\n",
       "      <td>1</td>\n",
       "      <td>FHI360 validation study with real and mock dos...</td>\n",
       "      <td>3.0</td>\n",
       "      <td>Stuck</td>\n",
       "      <td></td>\n",
       "      <td>NaN</td>\n",
       "    </tr>\n",
       "    <tr>\n",
       "      <th>...</th>\n",
       "      <td>...</td>\n",
       "      <td>...</td>\n",
       "      <td>...</td>\n",
       "      <td>...</td>\n",
       "      <td>...</td>\n",
       "      <td>...</td>\n",
       "      <td>...</td>\n",
       "      <td>...</td>\n",
       "      <td>...</td>\n",
       "      <td>...</td>\n",
       "      <td>...</td>\n",
       "      <td>...</td>\n",
       "      <td>...</td>\n",
       "      <td>...</td>\n",
       "      <td>...</td>\n",
       "      <td>...</td>\n",
       "      <td>...</td>\n",
       "      <td>...</td>\n",
       "      <td>...</td>\n",
       "      <td>...</td>\n",
       "      <td>...</td>\n",
       "    </tr>\n",
       "    <tr>\n",
       "      <th>3861</th>\n",
       "      <td>47168</td>\n",
       "      <td></td>\n",
       "      <td>12 Lane PAD Kenya 2014</td>\n",
       "      <td>api-5NWT4K7IS60WMLR3J2LV</td>\n",
       "      <td>2023-06-06T14:54:40</td>\n",
       "      <td>/var/www/html/images/padimages/raw_local/40000...</td>\n",
       "      <td>/var/www/html/images/padimages/processed/40000...</td>\n",
       "      <td>2023-06-06T14:54:40</td>\n",
       "      <td>iPhone</td>\n",
       "      <td>{\"Safe\":\"Suspected unsafe\",\"Prediction score\":...</td>\n",
       "      <td>...</td>\n",
       "      <td>Lactose</td>\n",
       "      <td>1</td>\n",
       "      <td>1</td>\n",
       "      <td>1</td>\n",
       "      <td>1</td>\n",
       "      <td>FHI360 validation study with real and mock dos...</td>\n",
       "      <td>NaN</td>\n",
       "      <td>NaN</td>\n",
       "      <td>NaN</td>\n",
       "      <td>NaN</td>\n",
       "    </tr>\n",
       "    <tr>\n",
       "      <th>3862</th>\n",
       "      <td>47170</td>\n",
       "      <td>Amoxicillin</td>\n",
       "      <td>12 Lane PAD Kenya 2014</td>\n",
       "      <td>api-5NWT4K7IS60WMLR3J2LV</td>\n",
       "      <td>2023-06-08T10:14:12</td>\n",
       "      <td>/var/www/html/images/padimages/raw_local/40000...</td>\n",
       "      <td>/var/www/html/images/padimages/processed/40000...</td>\n",
       "      <td>2023-06-08T10:14:12</td>\n",
       "      <td>iPhone</td>\n",
       "      <td>{\"Safe\":\"Suspected safe\",\"Prediction score\":1,...</td>\n",
       "      <td>...</td>\n",
       "      <td>Lactose</td>\n",
       "      <td>1</td>\n",
       "      <td>1</td>\n",
       "      <td>1</td>\n",
       "      <td>1</td>\n",
       "      <td>FHI360 validation study with real and mock dos...</td>\n",
       "      <td>NaN</td>\n",
       "      <td>NaN</td>\n",
       "      <td>NaN</td>\n",
       "      <td>NaN</td>\n",
       "    </tr>\n",
       "    <tr>\n",
       "      <th>3863</th>\n",
       "      <td>47171</td>\n",
       "      <td>Amoxicillin</td>\n",
       "      <td>12 Lane PAD Kenya 2014</td>\n",
       "      <td>api-5NWT4K7IS60WMLR3J2LV</td>\n",
       "      <td>2023-06-08T10:15:27</td>\n",
       "      <td>/var/www/html/images/padimages/raw_local/40000...</td>\n",
       "      <td>/var/www/html/images/padimages/processed/40000...</td>\n",
       "      <td>2023-06-08T10:15:27</td>\n",
       "      <td>iPhone</td>\n",
       "      <td>{\"Safe\":\"Suspected safe\",\"Prediction score\":0....</td>\n",
       "      <td>...</td>\n",
       "      <td>Lactose</td>\n",
       "      <td>1</td>\n",
       "      <td>1</td>\n",
       "      <td>1</td>\n",
       "      <td>1</td>\n",
       "      <td>FHI360 validation study with real and mock dos...</td>\n",
       "      <td>NaN</td>\n",
       "      <td>NaN</td>\n",
       "      <td>NaN</td>\n",
       "      <td>NaN</td>\n",
       "    </tr>\n",
       "    <tr>\n",
       "      <th>3864</th>\n",
       "      <td>47172</td>\n",
       "      <td>Amoxicillin</td>\n",
       "      <td>12 Lane PAD Kenya 2014</td>\n",
       "      <td>api-5NWT4K7IS60WMLR3J2LV</td>\n",
       "      <td>2023-06-08T10:16:01</td>\n",
       "      <td>/var/www/html/images/padimages/raw_local/40000...</td>\n",
       "      <td>/var/www/html/images/padimages/processed/40000...</td>\n",
       "      <td>2023-06-08T10:16:01</td>\n",
       "      <td>iPhone</td>\n",
       "      <td>{\"Safe\":\"Suspected safe\",\"Prediction score\":1,...</td>\n",
       "      <td>...</td>\n",
       "      <td>Lactose</td>\n",
       "      <td>1</td>\n",
       "      <td>1</td>\n",
       "      <td>1</td>\n",
       "      <td>1</td>\n",
       "      <td>FHI360 validation study with real and mock dos...</td>\n",
       "      <td>NaN</td>\n",
       "      <td>NaN</td>\n",
       "      <td>NaN</td>\n",
       "      <td>NaN</td>\n",
       "    </tr>\n",
       "    <tr>\n",
       "      <th>3865</th>\n",
       "      <td>47173</td>\n",
       "      <td>Amoxicillin</td>\n",
       "      <td>12 Lane PAD Kenya 2014</td>\n",
       "      <td>api-5NWT4K7IS60WMLR3J2LV</td>\n",
       "      <td>2023-06-08T10:16:16</td>\n",
       "      <td>/var/www/html/images/padimages/raw_local/40000...</td>\n",
       "      <td>/var/www/html/images/padimages/processed/40000...</td>\n",
       "      <td>2023-06-08T10:16:16</td>\n",
       "      <td>iPhone</td>\n",
       "      <td>{\"Safe\":\"Suspected safe\",\"Prediction score\":1,...</td>\n",
       "      <td>...</td>\n",
       "      <td>Lactose</td>\n",
       "      <td>1</td>\n",
       "      <td>1</td>\n",
       "      <td>1</td>\n",
       "      <td>1</td>\n",
       "      <td>FHI360 validation study with real and mock dos...</td>\n",
       "      <td>NaN</td>\n",
       "      <td>NaN</td>\n",
       "      <td>NaN</td>\n",
       "      <td>NaN</td>\n",
       "    </tr>\n",
       "  </tbody>\n",
       "</table>\n",
       "<p>3866 rows × 29 columns</p>\n",
       "</div>"
      ],
      "text/plain": [
       "         id  sample_name               test_name                 user_name  \\\n",
       "0     42275   Ampicillin      12LanePADKenya2015  api-5NWT4K7IS60WMLR3J2LV   \n",
       "1     42276   Ampicillin      12LanePADKenya2015  api-5NWT4K7IS60WMLR3J2LV   \n",
       "2     42277   Ampicillin      12LanePADKenya2015  api-5NWT4K7IS60WMLR3J2LV   \n",
       "3     42278   Ampicillin      12LanePADKenya2015  api-5NWT4K7IS60WMLR3J2LV   \n",
       "4     42279   Ampicillin      12LanePADKenya2015  api-5NWT4K7IS60WMLR3J2LV   \n",
       "...     ...          ...                     ...                       ...   \n",
       "3861  47168               12 Lane PAD Kenya 2014  api-5NWT4K7IS60WMLR3J2LV   \n",
       "3862  47170  Amoxicillin  12 Lane PAD Kenya 2014  api-5NWT4K7IS60WMLR3J2LV   \n",
       "3863  47171  Amoxicillin  12 Lane PAD Kenya 2014  api-5NWT4K7IS60WMLR3J2LV   \n",
       "3864  47172  Amoxicillin  12 Lane PAD Kenya 2014  api-5NWT4K7IS60WMLR3J2LV   \n",
       "3865  47173  Amoxicillin  12 Lane PAD Kenya 2014  api-5NWT4K7IS60WMLR3J2LV   \n",
       "\n",
       "         date_of_creation                                  raw_file_location  \\\n",
       "0     2022-04-28T12:28:36  /var/www/html/images/padimages/raw/40000/42275...   \n",
       "1     2022-04-28T12:28:55  /var/www/html/images/padimages/raw/40000/42276...   \n",
       "2     2022-04-28T12:29:13  /var/www/html/images/padimages/raw/40000/42277...   \n",
       "3     2022-04-28T12:30:54  /var/www/html/images/padimages/raw/40000/42278...   \n",
       "4     2022-04-28T12:31:39  /var/www/html/images/padimages/raw/40000/42279...   \n",
       "...                   ...                                                ...   \n",
       "3861  2023-06-06T14:54:40  /var/www/html/images/padimages/raw_local/40000...   \n",
       "3862  2023-06-08T10:14:12  /var/www/html/images/padimages/raw_local/40000...   \n",
       "3863  2023-06-08T10:15:27  /var/www/html/images/padimages/raw_local/40000...   \n",
       "3864  2023-06-08T10:16:01  /var/www/html/images/padimages/raw_local/40000...   \n",
       "3865  2023-06-08T10:16:16  /var/www/html/images/padimages/raw_local/40000...   \n",
       "\n",
       "                                processed_file_location      processing_date  \\\n",
       "0     /var/www/html/images/padimages/processed/40000...  2022-04-28T12:28:36   \n",
       "1     /var/www/html/images/padimages/processed/40000...  2022-04-28T12:28:55   \n",
       "2     /var/www/html/images/padimages/processed/40000...  2022-04-28T12:29:13   \n",
       "3     /var/www/html/images/padimages/processed/40000...  2022-04-28T12:30:54   \n",
       "4     /var/www/html/images/padimages/processed/40000...  2022-04-28T12:31:39   \n",
       "...                                                 ...                  ...   \n",
       "3861  /var/www/html/images/padimages/processed/40000...  2023-06-06T14:54:40   \n",
       "3862  /var/www/html/images/padimages/processed/40000...  2023-06-08T10:14:12   \n",
       "3863  /var/www/html/images/padimages/processed/40000...  2023-06-08T10:15:27   \n",
       "3864  /var/www/html/images/padimages/processed/40000...  2023-06-08T10:16:01   \n",
       "3865  /var/www/html/images/padimages/processed/40000...  2023-06-08T10:16:16   \n",
       "\n",
       "        camera_type_1                                              notes  ...  \\\n",
       "0     Google Pixel 3a  {\"Predicted drug\": \"ampicillin\", \"User\": \"Unkn...  ...   \n",
       "1     Google Pixel 3a  {\"Predicted drug\": \"ampicillin\", \"User\": \"Unkn...  ...   \n",
       "2     Google Pixel 3a  {\"Predicted drug\": \"ampicillin\", \"User\": \"Unkn...  ...   \n",
       "3     Google Pixel 3a  {\"Predicted drug\": \"ampicillin\", \"User\": \"Unkn...  ...   \n",
       "4     Google Pixel 3a  {\"Predicted drug\": \"ampicillin\", \"User\": \"Unkn...  ...   \n",
       "...               ...                                                ...  ...   \n",
       "3861           iPhone  {\"Safe\":\"Suspected unsafe\",\"Prediction score\":...  ...   \n",
       "3862           iPhone  {\"Safe\":\"Suspected safe\",\"Prediction score\":1,...  ...   \n",
       "3863           iPhone  {\"Safe\":\"Suspected safe\",\"Prediction score\":0....  ...   \n",
       "3864           iPhone  {\"Safe\":\"Suspected safe\",\"Prediction score\":1,...  ...   \n",
       "3865           iPhone  {\"Safe\":\"Suspected safe\",\"Prediction score\":1,...  ...   \n",
       "\n",
       "      project.neutral_filler  project.qpc20  project.qpc50  project.qpc80  \\\n",
       "0                    Lactose              1              1              1   \n",
       "1                    Lactose              1              1              1   \n",
       "2                    Lactose              1              1              1   \n",
       "3                    Lactose              1              1              1   \n",
       "4                    Lactose              1              1              1   \n",
       "...                      ...            ...            ...            ...   \n",
       "3861                 Lactose              1              1              1   \n",
       "3862                 Lactose              1              1              1   \n",
       "3863                 Lactose              1              1              1   \n",
       "3864                 Lactose              1              1              1   \n",
       "3865                 Lactose              1              1              1   \n",
       "\n",
       "     project.qpc100                                      project.notes  \\\n",
       "0                 1  FHI360 validation study with real and mock dos...   \n",
       "1                 1  FHI360 validation study with real and mock dos...   \n",
       "2                 1  FHI360 validation study with real and mock dos...   \n",
       "3                 1  FHI360 validation study with real and mock dos...   \n",
       "4                 1  FHI360 validation study with real and mock dos...   \n",
       "...             ...                                                ...   \n",
       "3861              1  FHI360 validation study with real and mock dos...   \n",
       "3862              1  FHI360 validation study with real and mock dos...   \n",
       "3863              1  FHI360 validation study with real and mock dos...   \n",
       "3864              1  FHI360 validation study with real and mock dos...   \n",
       "3865              1  FHI360 validation study with real and mock dos...   \n",
       "\n",
       "     issue.id issue.name issue.description issue  \n",
       "0         3.0      Stuck                     NaN  \n",
       "1         3.0      Stuck                     NaN  \n",
       "2         3.0      Stuck                     NaN  \n",
       "3         NaN        NaN               NaN   NaN  \n",
       "4         3.0      Stuck                     NaN  \n",
       "...       ...        ...               ...   ...  \n",
       "3861      NaN        NaN               NaN   NaN  \n",
       "3862      NaN        NaN               NaN   NaN  \n",
       "3863      NaN        NaN               NaN   NaN  \n",
       "3864      NaN        NaN               NaN   NaN  \n",
       "3865      NaN        NaN               NaN   NaN  \n",
       "\n",
       "[3866 rows x 29 columns]"
      ]
     },
     "execution_count": 3,
     "metadata": {},
     "output_type": "execute_result"
    }
   ],
   "source": [
    "project_id = PROJECT_ID\n",
    "df = get_project_data(project_id)\n",
    "df"
   ]
  },
  {
   "cell_type": "code",
   "execution_count": 4,
   "id": "eb5862ec",
   "metadata": {},
   "outputs": [
    {
     "data": {
      "text/plain": [
       "['id',\n",
       " 'sample_name',\n",
       " 'test_name',\n",
       " 'user_name',\n",
       " 'date_of_creation',\n",
       " 'raw_file_location',\n",
       " 'processed_file_location',\n",
       " 'processing_date',\n",
       " 'camera_type_1',\n",
       " 'notes',\n",
       " 'sample_id',\n",
       " 'quantity',\n",
       " 'deleted',\n",
       " 'project.id',\n",
       " 'project.user_name',\n",
       " 'project.project_name',\n",
       " 'project.annotation',\n",
       " 'project.test_name',\n",
       " 'project.sample_names.sample_names',\n",
       " 'project.neutral_filler',\n",
       " 'project.qpc20',\n",
       " 'project.qpc50',\n",
       " 'project.qpc80',\n",
       " 'project.qpc100',\n",
       " 'project.notes',\n",
       " 'issue.id',\n",
       " 'issue.name',\n",
       " 'issue.description',\n",
       " 'issue']"
      ]
     },
     "execution_count": 4,
     "metadata": {},
     "output_type": "execute_result"
    }
   ],
   "source": [
    "df.columns.to_list()"
   ]
  },
  {
   "cell_type": "markdown",
   "id": "02850224",
   "metadata": {},
   "source": [
    "## Normalize columns"
   ]
  },
  {
   "cell_type": "code",
   "execution_count": 5,
   "id": "ef1d10ee",
   "metadata": {},
   "outputs": [
    {
     "name": "stdout",
     "output_type": "stream",
     "text": [
      "sample_name\n",
      "acetominophen                 499\n",
      "ceftriaxone                   468\n",
      "doxycycline                   432\n",
      "ampicillin                    401\n",
      "amoxicillin                   371\n",
      "ciprofloxacin                 353\n",
      "blank                         208\n",
      "caco3-starch                  137\n",
      "lactose                        83\n",
      "swiped-but-not-run             78\n",
      "ripe                           75\n",
      "ethambutol                     67\n",
      "promethazine-hydrochloride     67\n",
      "rifampicin                     65\n",
      "ferrous-sulfate                64\n",
      "pyrazinamide                   63\n",
      "albendazole                    61\n",
      "isoniazid                      60\n",
      "sulfamethoxazole               60\n",
      "chloroquine                    60\n",
      "azithromycin                   56\n",
      "ampicillin-starch              53\n",
      "doxycycline-starch             42\n",
      "ciprofloxacin-starch           32\n",
      "distractor                      6\n",
      "                                5\n",
      "Name: count, dtype: int64\n"
     ]
    }
   ],
   "source": [
    "## Counting unique values to identify categories in the 'sample_name' column\n",
    "\n",
    "# Normalize case to lowercase and replace spaces with dashes in 'sample_name'\n",
    "df['sample_name'] = df['sample_name'].str.lower().str.replace(' ', '-', regex=False)\n",
    "\n",
    "# Counting unique values to identify categories\n",
    "print(df['sample_name'].value_counts())"
   ]
  },
  {
   "cell_type": "markdown",
   "id": "45ef6986",
   "metadata": {},
   "source": [
    "## Select Columns of Interest"
   ]
  },
  {
   "cell_type": "code",
   "execution_count": 6,
   "id": "aba297cc",
   "metadata": {},
   "outputs": [],
   "source": [
    "columns = ['blank', 'swiped-but-not-run']\n",
    "df = df[df.sample_name.isin(columns)].reset_index()"
   ]
  },
  {
   "cell_type": "markdown",
   "id": "897ea5e8",
   "metadata": {},
   "source": [
    "## Check for deleted samples"
   ]
  },
  {
   "cell_type": "code",
   "execution_count": 7,
   "id": "aa37dc9c",
   "metadata": {},
   "outputs": [
    {
     "name": "stdout",
     "output_type": "stream",
     "text": [
      "Deleted 286 cards to 286 cards\n"
     ]
    }
   ],
   "source": [
    "# Filter by deleted\n",
    "num_cards = len(df.index)\n",
    "df = df[~df['deleted']]\n",
    "print(f\"Deleted {num_cards} cards to {len(df.index)} cards\")"
   ]
  },
  {
   "cell_type": "markdown",
   "id": "a24204b1",
   "metadata": {},
   "source": [
    "## Add `URL` colum to the data"
   ]
  },
  {
   "cell_type": "code",
   "execution_count": 8,
   "id": "74a24753",
   "metadata": {},
   "outputs": [],
   "source": [
    "# Add url to dataframe\n",
    "df['url'] = df['processed_file_location'].apply(lambda x: f\"https://pad.crc.nd.edu/{x}\")"
   ]
  },
  {
   "cell_type": "markdown",
   "id": "72ef97c8",
   "metadata": {},
   "source": [
    "## Show number of samples by `sample_name`"
   ]
  },
  {
   "cell_type": "code",
   "execution_count": 9,
   "id": "89a05f9c",
   "metadata": {},
   "outputs": [
    {
     "data": {
      "text/html": [
       "<div>\n",
       "<style scoped>\n",
       "    .dataframe tbody tr th:only-of-type {\n",
       "        vertical-align: middle;\n",
       "    }\n",
       "\n",
       "    .dataframe tbody tr th {\n",
       "        vertical-align: top;\n",
       "    }\n",
       "\n",
       "    .dataframe thead th {\n",
       "        text-align: right;\n",
       "    }\n",
       "</style>\n",
       "<table border=\"1\" class=\"dataframe\">\n",
       "  <thead>\n",
       "    <tr style=\"text-align: right;\">\n",
       "      <th></th>\n",
       "      <th>sample_name</th>\n",
       "      <th>counts</th>\n",
       "    </tr>\n",
       "  </thead>\n",
       "  <tbody>\n",
       "    <tr>\n",
       "      <th>0</th>\n",
       "      <td>blank</td>\n",
       "      <td>208</td>\n",
       "    </tr>\n",
       "    <tr>\n",
       "      <th>1</th>\n",
       "      <td>swiped-but-not-run</td>\n",
       "      <td>78</td>\n",
       "    </tr>\n",
       "  </tbody>\n",
       "</table>\n",
       "</div>"
      ],
      "text/plain": [
       "          sample_name  counts\n",
       "0               blank     208\n",
       "1  swiped-but-not-run      78"
      ]
     },
     "execution_count": 9,
     "metadata": {},
     "output_type": "execute_result"
    }
   ],
   "source": [
    "df.value_counts(['sample_name']).reset_index(name='counts')"
   ]
  },
  {
   "cell_type": "markdown",
   "id": "12ea1f83",
   "metadata": {},
   "source": [
    "## Exclude samples with issues"
   ]
  },
  {
   "cell_type": "code",
   "execution_count": 10,
   "id": "7e6f7750",
   "metadata": {},
   "outputs": [
    {
     "name": "stdout",
     "output_type": "stream",
     "text": [
      "Samples with issues: 0 samples\n"
     ]
    }
   ],
   "source": [
    "# selct cards that have no issues\n",
    "size_before = len(df.index)\n",
    "df = df[df['issue'].isnull()].copy()\n",
    "size_after = len(df.index)\n",
    "\n",
    "print(f\"Samples with issues: {size_before-size_after} samples\")"
   ]
  },
  {
   "cell_type": "markdown",
   "id": "ded6d7ef",
   "metadata": {},
   "source": [
    "## Find and check samples with `sample_name`==`unknown` or empty"
   ]
  },
  {
   "cell_type": "code",
   "execution_count": 11,
   "id": "14960d9d",
   "metadata": {},
   "outputs": [],
   "source": [
    "\n",
    "\n",
    "# Filter by not empty and not null column_name\n",
    "def filter_by_empty_column(df, column_name):\n",
    "    if column_name not in df.columns:\n",
    "        raise ValueError(\"The column name is not in the dataframe\")\n",
    "    else:\n",
    "        return df[(df[column_name].isnull()) | (df[column_name] == \"\")].copy()\n",
    "    "
   ]
  },
  {
   "cell_type": "code",
   "execution_count": 12,
   "id": "5fd06dff",
   "metadata": {},
   "outputs": [
    {
     "name": "stdout",
     "output_type": "stream",
     "text": [
      "Total samples: 286\n",
      "Total num of samples with empty sample_name: 0 samples\n",
      "Total num of samples with unknown sample_name: 0 samples\n"
     ]
    }
   ],
   "source": [
    "column_name = \"sample_name\"\n",
    "\n",
    "print(f\"Total samples: {len(df.index)}\")\n",
    "\n",
    "empty_name = filter_by_empty_column(df, column_name)\n",
    "print(f\"Total num of samples with empty {column_name}: {len(empty_name.index)} samples\")\n",
    "\n",
    "unknown_name = filter_by_unknown_column(df, column_name)\n",
    "print(f\"Total num of samples with unknown sample_name: {len(unknown_name.index)} samples\")"
   ]
  },
  {
   "cell_type": "code",
   "execution_count": 13,
   "id": "1ea47aeb",
   "metadata": {},
   "outputs": [],
   "source": [
    "if len(unknown_name.index) > 0:\n",
    "    print(f\"Unknown sample_name: {unknown_name['sample_name'].unique()}\")\n",
    "    unknown_name[['id','sample_id','sample_name','quantity','test_name','user_name','date_of_creation','url']\n",
    "                    ].to_csv('../intermediate/data/FHI2020_analysis/check_samples_with_unknown_sample_name.csv', index=False)\n",
    "    \n",
    "if len(empty_name.index) > 0:\n",
    "    print(f\"Samples with empty sample_name: {empty_name['sample_name'].unique()}\")\n",
    "    empty_name[['id','sample_id','sample_name','quantity','test_name','user_name','date_of_creation','url']\n",
    "                    ].to_csv('../intermediate/data/FHI2020_analysis/check_samples_with_empty_sample_name.csv', index=False)"
   ]
  },
  {
   "cell_type": "markdown",
   "id": "bac13e5a",
   "metadata": {},
   "source": [
    "## Checking if there are any missing and unknown values in the `processed_file_location` column"
   ]
  },
  {
   "cell_type": "code",
   "execution_count": 14,
   "id": "917f0185",
   "metadata": {},
   "outputs": [
    {
     "name": "stdout",
     "output_type": "stream",
     "text": [
      "Total num of samples with empty 'processed_file_location': 0 samples\n",
      "Total num of samples with unknown 'processed_file_location': 0 samples\n"
     ]
    }
   ],
   "source": [
    "column_name = \"processed_file_location\"\n",
    "\n",
    "empty_name = filter_by_empty_column(df, column_name)\n",
    "print(f\"Total num of samples with empty '{column_name}': {len(empty_name.index)} samples\")\n",
    "\n",
    "unknown_name = filter_by_unknown_column(df, column_name)\n",
    "print(f\"Total num of samples with unknown '{column_name}': {len(unknown_name.index)} samples\")"
   ]
  },
  {
   "cell_type": "code",
   "execution_count": 15,
   "id": "cb2e5a96",
   "metadata": {},
   "outputs": [],
   "source": [
    "if len(unknown_name.index) > 0:\n",
    "    print(f\"Unknown '{column_name}': {unknown_name['sample_name'].unique()}\")\n",
    "    unknown_name[['id','sample_id','sample_name','quantity','test_name','user_name','date_of_creation','url']\n",
    "                    ].to_csv('../data/intermediate/FHI2020_analysis/check_samples_with_unknown_sample_location.csv', index=False)\n",
    "    \n",
    "if len(empty_name.index) > 0:\n",
    "    print(f\"Samples with empty '{column_name}': {empty_name['sample_name'].unique()}\")\n",
    "    empty_name[['id','sample_id','sample_name','quantity','test_name','user_name','date_of_creation','url']\n",
    "                    ].to_csv('../data/intermediate/FHI2020_analysis/check_samples_with_empty_sample_location.csv', index=False)"
   ]
  },
  {
   "cell_type": "markdown",
   "id": "7794f77f",
   "metadata": {},
   "source": [
    "## "
   ]
  },
  {
   "cell_type": "markdown",
   "id": "b49fc1ff",
   "metadata": {},
   "source": [
    "# Ckeck the urls for the `processed_file_location` column"
   ]
  },
  {
   "cell_type": "code",
   "execution_count": 16,
   "id": "5a666272",
   "metadata": {},
   "outputs": [
    {
     "name": "stdout",
     "output_type": "stream",
     "text": [
      "Samples with bad urls: 0 samples\n"
     ]
    }
   ],
   "source": [
    "column_name = \"url\"\n",
    "\n",
    "bad_urls_df = check_url(df)\n",
    "print(f\"Samples with bad urls: {len(bad_urls_df.index)} samples\")\n",
    "\n",
    "# save the samples that have a status code different from 200 in a new csv file called check_samples_with_bad_urls.csv\n",
    "if len(bad_urls_df.index) > 0:\n",
    "    bad_urls_df.to_csv('../data/intermediate/FHI2020_analysis/check_samples_with_bad_urls.csv', index=False)"
   ]
  },
  {
   "cell_type": "markdown",
   "id": "ce0264a1",
   "metadata": {},
   "source": [
    "# Hash"
   ]
  },
  {
   "cell_type": "markdown",
   "id": "c8150506",
   "metadata": {},
   "source": [
    "- Downloading images and Calculating the hash of the processed files"
   ]
  },
  {
   "cell_type": "code",
   "execution_count": 17,
   "id": "9c728f8c",
   "metadata": {},
   "outputs": [],
   "source": [
    "save_dir = '../intermediate_data/' \n",
    "hash_codes = get_hash_all(df, save_dir)"
   ]
  },
  {
   "cell_type": "code",
   "execution_count": 18,
   "id": "444d51d2",
   "metadata": {},
   "outputs": [
    {
     "data": {
      "text/html": [
       "<div>\n",
       "<style scoped>\n",
       "    .dataframe tbody tr th:only-of-type {\n",
       "        vertical-align: middle;\n",
       "    }\n",
       "\n",
       "    .dataframe tbody tr th {\n",
       "        vertical-align: top;\n",
       "    }\n",
       "\n",
       "    .dataframe thead th {\n",
       "        text-align: right;\n",
       "    }\n",
       "</style>\n",
       "<table border=\"1\" class=\"dataframe\">\n",
       "  <thead>\n",
       "    <tr style=\"text-align: right;\">\n",
       "      <th></th>\n",
       "      <th>id</th>\n",
       "      <th>url_status_code</th>\n",
       "      <th>hashlib_md5</th>\n",
       "    </tr>\n",
       "  </thead>\n",
       "  <tbody>\n",
       "    <tr>\n",
       "      <th>0</th>\n",
       "      <td>44047</td>\n",
       "      <td>200</td>\n",
       "      <td>f517e0f8f1c1acb13e2a3137e005758a</td>\n",
       "    </tr>\n",
       "    <tr>\n",
       "      <th>1</th>\n",
       "      <td>44050</td>\n",
       "      <td>200</td>\n",
       "      <td>c8de1e0506648f835ca165713b4fe5f7</td>\n",
       "    </tr>\n",
       "    <tr>\n",
       "      <th>2</th>\n",
       "      <td>44048</td>\n",
       "      <td>200</td>\n",
       "      <td>353054b5f7e3b5d80e6c07006eef719a</td>\n",
       "    </tr>\n",
       "    <tr>\n",
       "      <th>3</th>\n",
       "      <td>44049</td>\n",
       "      <td>200</td>\n",
       "      <td>17ee78855434eb9baf6f05eb9281e87e</td>\n",
       "    </tr>\n",
       "    <tr>\n",
       "      <th>4</th>\n",
       "      <td>44051</td>\n",
       "      <td>200</td>\n",
       "      <td>3a2ba067a2bfa6a83a4583d8379c8955</td>\n",
       "    </tr>\n",
       "    <tr>\n",
       "      <th>...</th>\n",
       "      <td>...</td>\n",
       "      <td>...</td>\n",
       "      <td>...</td>\n",
       "    </tr>\n",
       "    <tr>\n",
       "      <th>281</th>\n",
       "      <td>46173</td>\n",
       "      <td>200</td>\n",
       "      <td>76cd5adc83f3893be6f5d67a19bd324a</td>\n",
       "    </tr>\n",
       "    <tr>\n",
       "      <th>282</th>\n",
       "      <td>46174</td>\n",
       "      <td>200</td>\n",
       "      <td>91c9233e4a18a8970c247125efd85776</td>\n",
       "    </tr>\n",
       "    <tr>\n",
       "      <th>283</th>\n",
       "      <td>46175</td>\n",
       "      <td>200</td>\n",
       "      <td>060e8a91f123f8a599c9a020a07ffb83</td>\n",
       "    </tr>\n",
       "    <tr>\n",
       "      <th>284</th>\n",
       "      <td>46176</td>\n",
       "      <td>200</td>\n",
       "      <td>02ed26b7f059f341848b333457436621</td>\n",
       "    </tr>\n",
       "    <tr>\n",
       "      <th>285</th>\n",
       "      <td>46177</td>\n",
       "      <td>200</td>\n",
       "      <td>d4bf075eca03035c83044457f31c62a7</td>\n",
       "    </tr>\n",
       "  </tbody>\n",
       "</table>\n",
       "<p>286 rows × 3 columns</p>\n",
       "</div>"
      ],
      "text/plain": [
       "        id  url_status_code                       hashlib_md5\n",
       "0    44047              200  f517e0f8f1c1acb13e2a3137e005758a\n",
       "1    44050              200  c8de1e0506648f835ca165713b4fe5f7\n",
       "2    44048              200  353054b5f7e3b5d80e6c07006eef719a\n",
       "3    44049              200  17ee78855434eb9baf6f05eb9281e87e\n",
       "4    44051              200  3a2ba067a2bfa6a83a4583d8379c8955\n",
       "..     ...              ...                               ...\n",
       "281  46173              200  76cd5adc83f3893be6f5d67a19bd324a\n",
       "282  46174              200  91c9233e4a18a8970c247125efd85776\n",
       "283  46175              200  060e8a91f123f8a599c9a020a07ffb83\n",
       "284  46176              200  02ed26b7f059f341848b333457436621\n",
       "285  46177              200  d4bf075eca03035c83044457f31c62a7\n",
       "\n",
       "[286 rows x 3 columns]"
      ]
     },
     "execution_count": 18,
     "metadata": {},
     "output_type": "execute_result"
    }
   ],
   "source": [
    "hash_codes_df = pd.DataFrame(hash_codes, columns=['id', 'url_status_code', 'hashlib_md5'])\n",
    "hash_codes_df"
   ]
  },
  {
   "cell_type": "markdown",
   "id": "26a7b37d",
   "metadata": {},
   "source": [
    "- check is all images have hash \n"
   ]
  },
  {
   "cell_type": "code",
   "execution_count": 19,
   "id": "0e00caea",
   "metadata": {},
   "outputs": [
    {
     "name": "stdout",
     "output_type": "stream",
     "text": [
      "Samples with null hash: 0\n",
      "Samples with no image: 0\n"
     ]
    }
   ],
   "source": [
    "no_hash = hash_codes_df[hash_codes_df.hashlib_md5.isnull()]\n",
    "print(f\"Samples with null hash: {len(no_hash)}\")\n",
    "\n",
    "no_image = hash_codes_df[hash_codes_df.url_status_code != 200]\n",
    "print(f\"Samples with no image: {len(no_image)}\")"
   ]
  },
  {
   "cell_type": "markdown",
   "id": "ba0c8d5b",
   "metadata": {},
   "source": [
    "- Finally, you can create a new column called `hashlib_md5` with the hash of the images"
   ]
  },
  {
   "cell_type": "code",
   "execution_count": 20,
   "id": "c7122030",
   "metadata": {},
   "outputs": [
    {
     "data": {
      "text/plain": [
       "Index(['index', 'id', 'sample_name', 'test_name', 'user_name',\n",
       "       'date_of_creation', 'raw_file_location', 'processed_file_location',\n",
       "       'processing_date', 'camera_type_1', 'notes', 'sample_id', 'quantity',\n",
       "       'deleted', 'project.id', 'project.user_name', 'project.project_name',\n",
       "       'project.annotation', 'project.test_name',\n",
       "       'project.sample_names.sample_names', 'project.neutral_filler',\n",
       "       'project.qpc20', 'project.qpc50', 'project.qpc80', 'project.qpc100',\n",
       "       'project.notes', 'issue.id', 'issue.name', 'issue.description', 'issue',\n",
       "       'url', 'url_status_code', 'hashlib_md5'],\n",
       "      dtype='object')"
      ]
     },
     "execution_count": 20,
     "metadata": {},
     "output_type": "execute_result"
    }
   ],
   "source": [
    "# drop 'url_status_code' column from dataframes\n",
    "hash_codes_df.drop(columns=['url_status_code'], inplace=True)\n",
    "#if 'url_status_code' in df.columns: df.drop(columns=['url_status_code'], inplace=True)\n",
    "\n",
    "# merge for adding the 'hashlib_md5' column\n",
    "df = pd.merge(df, hash_codes_df, on='id')\n",
    "\n",
    "df.columns"
   ]
  },
  {
   "cell_type": "markdown",
   "id": "6ea2fa7d",
   "metadata": {},
   "source": [
    "- check if there are any samples that have the same hash\n"
   ]
  },
  {
   "cell_type": "code",
   "execution_count": 21,
   "id": "bdd97bc6",
   "metadata": {},
   "outputs": [
    {
     "name": "stdout",
     "output_type": "stream",
     "text": [
      "Summary:\n",
      "Total unique hash codes : 286\n",
      "Total of hash code with one sample: 286\n",
      "Total of hash code with two or more samples: 0\n",
      "\n",
      "Total of samples: 286\n",
      "Total of samples without duplicates: 286\n",
      "Total of samples in some duplicate case (will be deleted): 0\n"
     ]
    }
   ],
   "source": [
    "num_samples = len(df)\n",
    "data = df.groupby(['hashlib_md5']).size().reset_index(name='counts')\n",
    "one_sample_hash = data[data['counts']==1]\n",
    "two_more_sample_hash = data[data['counts']>1]\n",
    "\n",
    "print('Summary:')\n",
    "print(f\"Total unique hash codes : {len(data.index)}\")\n",
    "print(f\"Total of hash code with one sample: {len(one_sample_hash.index)}\")\n",
    "print(f\"Total of hash code with two or more samples: {len(two_more_sample_hash.index)}\")\n",
    "\n",
    "print('')\n",
    "print(f\"Total of samples: {num_samples}\")\n",
    "print(f\"Total of samples without duplicates: {len(data.index)}\")\n",
    "print(f\"Total of samples in some duplicate case (will be deleted): {num_samples-len(data.index)}\")"
   ]
  },
  {
   "cell_type": "markdown",
   "id": "a5962488",
   "metadata": {},
   "source": [
    "# Check Single samples "
   ]
  },
  {
   "cell_type": "code",
   "execution_count": 31,
   "id": "0fee8173",
   "metadata": {},
   "outputs": [],
   "source": [
    "data = df.copy()\n"
   ]
  },
  {
   "cell_type": "code",
   "execution_count": 32,
   "id": "f916ca43",
   "metadata": {},
   "outputs": [
    {
     "name": "stdout",
     "output_type": "stream",
     "text": [
      "Total of Unique samples 76\n"
     ]
    },
    {
     "data": {
      "text/html": [
       "<div>\n",
       "<style scoped>\n",
       "    .dataframe tbody tr th:only-of-type {\n",
       "        vertical-align: middle;\n",
       "    }\n",
       "\n",
       "    .dataframe tbody tr th {\n",
       "        vertical-align: top;\n",
       "    }\n",
       "\n",
       "    .dataframe thead th {\n",
       "        text-align: right;\n",
       "    }\n",
       "</style>\n",
       "<table border=\"1\" class=\"dataframe\">\n",
       "  <thead>\n",
       "    <tr style=\"text-align: right;\">\n",
       "      <th></th>\n",
       "      <th>sample_name</th>\n",
       "      <th>counts</th>\n",
       "    </tr>\n",
       "  </thead>\n",
       "  <tbody>\n",
       "    <tr>\n",
       "      <th>0</th>\n",
       "      <td>blank</td>\n",
       "      <td>47</td>\n",
       "    </tr>\n",
       "    <tr>\n",
       "      <th>1</th>\n",
       "      <td>swiped-but-not-run</td>\n",
       "      <td>29</td>\n",
       "    </tr>\n",
       "  </tbody>\n",
       "</table>\n",
       "</div>"
      ],
      "text/plain": [
       "          sample_name  counts\n",
       "0               blank      47\n",
       "1  swiped-but-not-run      29"
      ]
     },
     "execution_count": 32,
     "metadata": {},
     "output_type": "execute_result"
    }
   ],
   "source": [
    "samples_unique = data[['sample_id','sample_name']].value_counts().reset_index(name='counts')\n",
    "print(f\"Total of Unique samples {samples_unique.shape[0]}\")\n",
    "\n",
    "samples_unique_grp = samples_unique.groupby(['sample_name']).size().reset_index(name='counts')\n",
    "samples_unique_grp.sort_values(by=['counts'], ascending=False)"
   ]
  },
  {
   "cell_type": "markdown",
   "id": "58d2e27f",
   "metadata": {},
   "source": [
    "# Fixing quantities"
   ]
  },
  {
   "cell_type": "code",
   "execution_count": 33,
   "id": "88b36a9c",
   "metadata": {},
   "outputs": [
    {
     "name": "stdout",
     "output_type": "stream",
     "text": [
      "Counts of 'sample_id's and 'id's by 'sample_name' and 'quantity' group:\n"
     ]
    },
    {
     "data": {
      "text/html": [
       "<div>\n",
       "<style scoped>\n",
       "    .dataframe tbody tr th:only-of-type {\n",
       "        vertical-align: middle;\n",
       "    }\n",
       "\n",
       "    .dataframe tbody tr th {\n",
       "        vertical-align: top;\n",
       "    }\n",
       "\n",
       "    .dataframe thead th {\n",
       "        text-align: right;\n",
       "    }\n",
       "</style>\n",
       "<table border=\"1\" class=\"dataframe\">\n",
       "  <thead>\n",
       "    <tr style=\"text-align: right;\">\n",
       "      <th></th>\n",
       "      <th></th>\n",
       "      <th>sample_id</th>\n",
       "      <th>id</th>\n",
       "    </tr>\n",
       "    <tr>\n",
       "      <th>sample_name</th>\n",
       "      <th>quantity</th>\n",
       "      <th></th>\n",
       "      <th></th>\n",
       "    </tr>\n",
       "  </thead>\n",
       "  <tbody>\n",
       "    <tr>\n",
       "      <th rowspan=\"4\" valign=\"top\">blank</th>\n",
       "      <th>0</th>\n",
       "      <td>28</td>\n",
       "      <td>152</td>\n",
       "    </tr>\n",
       "    <tr>\n",
       "      <th>20</th>\n",
       "      <td>8</td>\n",
       "      <td>24</td>\n",
       "    </tr>\n",
       "    <tr>\n",
       "      <th>50</th>\n",
       "      <td>10</td>\n",
       "      <td>30</td>\n",
       "    </tr>\n",
       "    <tr>\n",
       "      <th>80</th>\n",
       "      <td>1</td>\n",
       "      <td>2</td>\n",
       "    </tr>\n",
       "    <tr>\n",
       "      <th rowspan=\"3\" valign=\"top\">swiped-but-not-run</th>\n",
       "      <th>20</th>\n",
       "      <td>8</td>\n",
       "      <td>23</td>\n",
       "    </tr>\n",
       "    <tr>\n",
       "      <th>50</th>\n",
       "      <td>20</td>\n",
       "      <td>54</td>\n",
       "    </tr>\n",
       "    <tr>\n",
       "      <th>80</th>\n",
       "      <td>1</td>\n",
       "      <td>1</td>\n",
       "    </tr>\n",
       "  </tbody>\n",
       "</table>\n",
       "</div>"
      ],
      "text/plain": [
       "                             sample_id   id\n",
       "sample_name        quantity                \n",
       "blank              0                28  152\n",
       "                   20                8   24\n",
       "                   50               10   30\n",
       "                   80                1    2\n",
       "swiped-but-not-run 20                8   23\n",
       "                   50               20   54\n",
       "                   80                1    1"
      ]
     },
     "execution_count": 33,
     "metadata": {},
     "output_type": "execute_result"
    }
   ],
   "source": [
    "counts_per_group = data.groupby(['sample_name', 'quantity']).agg({\n",
    "    'sample_id': 'nunique',  # Counts unique sample_ids\n",
    "    'id': 'count'            # Counts total ids\n",
    "})\n",
    "\n",
    "print(\"Counts of 'sample_id's and 'id's by 'sample_name' and 'quantity' group:\")\n",
    "counts_per_group"
   ]
  },
  {
   "cell_type": "markdown",
   "id": "019815d0",
   "metadata": {},
   "source": [
    "# Remove the quantity  for the blank and swiped-but-not-run samples \n",
    "\n",
    "The quantity label should not be considered for types such as the blank (both with and without reagents) and swiped-but-not-run samples in the context of training or demonstrating the classification model's capabilities.\n",
    "\n",
    "For the blank PADs, the quantity is irrelevant because they don't carry samples or reactions. For the swiped-but-not-run PADs, the quantity indicator doesn't provide meaningful information for analysis since the composition and appearance of the applied powder do not correspond directly to the expected quantification due to the presence of a significant amount of lactose. Therefore, the quantity label should be removed from these samples."
   ]
  },
  {
   "cell_type": "code",
   "execution_count": 34,
   "id": "ce762e9a",
   "metadata": {},
   "outputs": [
    {
     "data": {
      "text/plain": [
       "Index(['index', 'id', 'sample_name', 'test_name', 'user_name',\n",
       "       'date_of_creation', 'raw_file_location', 'processed_file_location',\n",
       "       'processing_date', 'camera_type_1', 'notes', 'sample_id', 'quantity',\n",
       "       'deleted', 'project.id', 'project.user_name', 'project.project_name',\n",
       "       'project.annotation', 'project.test_name',\n",
       "       'project.sample_names.sample_names', 'project.neutral_filler',\n",
       "       'project.qpc20', 'project.qpc50', 'project.qpc80', 'project.qpc100',\n",
       "       'project.notes', 'issue.id', 'issue.name', 'issue.description', 'issue',\n",
       "       'url', 'url_status_code', 'hashlib_md5'],\n",
       "      dtype='object')"
      ]
     },
     "execution_count": 34,
     "metadata": {},
     "output_type": "execute_result"
    }
   ],
   "source": [
    "data['quantity'] = 0\n",
    "data.columns"
   ]
  },
  {
   "cell_type": "code",
   "execution_count": 35,
   "id": "85d02c74",
   "metadata": {},
   "outputs": [
    {
     "name": "stdout",
     "output_type": "stream",
     "text": [
      "There is no duplicates.\n"
     ]
    }
   ],
   "source": [
    "_ = check_duplicates_by_hash(data)"
   ]
  },
  {
   "cell_type": "markdown",
   "id": "e1a4b668",
   "metadata": {},
   "source": [
    "## Save Cleaned Data"
   ]
  },
  {
   "cell_type": "markdown",
   "id": "76f3d69e",
   "metadata": {},
   "source": [
    "On that point the dataframe `data` should have the cleaned data samples to put in the dataset.\n"
   ]
  },
  {
   "cell_type": "code",
   "execution_count": 38,
   "id": "5cba1323",
   "metadata": {},
   "outputs": [],
   "source": [
    "# save cleaned dataframe to csv\n",
    "data = data[['id','sample_id','sample_name', 'quantity', 'camera_type_1', 'project.id',  'url', 'hashlib_md5']]\n",
    "data.to_csv(DATA_FNAME, index=False)"
   ]
  }
 ],
 "metadata": {
  "kernelspec": {
   "display_name": "Python 3 (ipykernel)",
   "language": "python",
   "name": "python3"
  },
  "language_info": {
   "codemirror_mode": {
    "name": "ipython",
    "version": 3
   },
   "file_extension": ".py",
   "mimetype": "text/x-python",
   "name": "python",
   "nbconvert_exporter": "python",
   "pygments_lexer": "ipython3",
   "version": "3.10.8"
  }
 },
 "nbformat": 4,
 "nbformat_minor": 5
}
