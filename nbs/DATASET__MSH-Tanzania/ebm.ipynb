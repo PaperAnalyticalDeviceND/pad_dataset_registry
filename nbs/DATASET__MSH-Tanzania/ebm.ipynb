{
 "cells": [
  {
   "cell_type": "markdown",
   "metadata": {},
   "source": [
    "# Testing EBM with a simple example"
   ]
  },
  {
   "cell_type": "markdown",
   "metadata": {},
   "source": [
    "Parameters:"
   ]
  },
  {
   "cell_type": "code",
   "execution_count": 1,
   "metadata": {},
   "outputs": [],
   "source": [
    "experiment = 'mid_datab'\n",
    "arch = 'fhi360_large_1_23_convnet'\n",
    "ckpt_experiment = 'mid_data_1' \n",
    "IMG_SHAPE = (454, 454,3)\n",
    "NUM_CLASSES = 23\n",
    "seed=13456\n",
    "labels = ['Albendazole','Amoxicillin','Ampicillin','Azithromycin','Benzyl-Penicillin','Blank','Ceftriaxone','Chloroquine','Ciprofloxacin','Doxycycline','Epinephrine', \\\n",
    "          'Ethambutol','Ferrous-Sulfate','Hydroxychloroquine','Isoniazid','Lactose', \\\n",
    "          'Promethazine-Hydrochloride','Pyrazinamide','Rifampicin','Ripe','Sulfamethoxazole', \\\n",
    "          'Swiped-but-not-run','Tetracycline']\n",
    "weights = 'fhi360_large_1_23_convnetmid_datab.tar.gz'\n",
    "MODEL_DIR = '../../models/weights/fhi360_large_1_23_convnetmid_datab'\n",
    "GPU_ID = '1'"
   ]
  },
  {
   "cell_type": "markdown",
   "metadata": {},
   "source": [
    "\n",
    "### Specify a particular GPU for TensorFlow to use"
   ]
  },
  {
   "cell_type": "code",
   "execution_count": 2,
   "metadata": {},
   "outputs": [
    {
     "name": "stderr",
     "output_type": "stream",
     "text": [
      "2024-04-26 14:06:04.701282: I tensorflow/core/util/port.cc:111] oneDNN custom operations are on. You may see slightly different numerical results due to floating-point round-off errors from different computation orders. To turn them off, set the environment variable `TF_ENABLE_ONEDNN_OPTS=0`.\n",
      "2024-04-26 14:06:04.753871: E tensorflow/compiler/xla/stream_executor/cuda/cuda_dnn.cc:9342] Unable to register cuDNN factory: Attempting to register factory for plugin cuDNN when one has already been registered\n",
      "2024-04-26 14:06:04.753905: E tensorflow/compiler/xla/stream_executor/cuda/cuda_fft.cc:609] Unable to register cuFFT factory: Attempting to register factory for plugin cuFFT when one has already been registered\n",
      "2024-04-26 14:06:04.753938: E tensorflow/compiler/xla/stream_executor/cuda/cuda_blas.cc:1518] Unable to register cuBLAS factory: Attempting to register factory for plugin cuBLAS when one has already been registered\n",
      "2024-04-26 14:06:04.763004: I tensorflow/core/platform/cpu_feature_guard.cc:182] This TensorFlow binary is optimized to use available CPU instructions in performance-critical operations.\n",
      "To enable the following instructions: AVX2 AVX512F AVX512_VNNI FMA, in other operations, rebuild TensorFlow with the appropriate compiler flags.\n"
     ]
    },
    {
     "name": "stdout",
     "output_type": "stream",
     "text": [
      "2.14.0\n",
      "Num GPUs Available:  1\n",
      "Visible Devices: [PhysicalDevice(name='/physical_device:GPU:0', device_type='GPU')]\n"
     ]
    }
   ],
   "source": [
    "import os\n",
    "\n",
    "# Ensure CUDA_VISIBLE_DEVICES is set BEFORE TensorFlow is loaded\n",
    "os.environ['CUDA_VISIBLE_DEVICES'] = GPU_ID\n",
    "\n",
    "# Import TensorFlow after setting the environment variable\n",
    "import tensorflow as tf\n",
    "from tensorflow import keras\n",
    "\n",
    "print(tf.__version__)\n",
    "\n",
    "# Explicitly set which GPU devices are visible to TensorFlow\n",
    "gpus = tf.config.list_physical_devices('GPU')\n",
    "if gpus:\n",
    "    # Attempt to set GPU 1 as the only visible device\n",
    "    try:\n",
    "        tf.config.set_visible_devices(gpus[0], 'GPU')\n",
    "        tf.config.experimental.set_memory_growth(gpus[0], True)\n",
    "    except RuntimeError as e:\n",
    "        # Visible devices must be set at program startup\n",
    "        print(e)\n",
    "\n",
    "# Check GPU availability again\n",
    "print(\"Num GPUs Available: \", len(tf.config.list_physical_devices('GPU')))\n",
    "print('Visible Devices:', tf.config.get_visible_devices('GPU'))"
   ]
  },
  {
   "cell_type": "markdown",
   "metadata": {},
   "source": [
    "Test trained network"
   ]
  },
  {
   "cell_type": "code",
   "execution_count": 4,
   "metadata": {},
   "outputs": [
    {
     "name": "stderr",
     "output_type": "stream",
     "text": [
      "2024-04-26 08:15:19.423793: I tensorflow/core/common_runtime/gpu/gpu_device.cc:1886] Created device /job:localhost/replica:0/task:0/device:GPU:0 with 46772 MB memory:  -> device: 0, name: NVIDIA RTX A6000, pci bus id: 0000:b3:00.0, compute capability: 8.6\n"
     ]
    }
   ],
   "source": [
    "import os\n",
    "from PIL import Image, ImageEnhance, ImageStat\n",
    "import tensorflow as tf\n",
    "from tensorflow import keras\n",
    "import pandas as pd  \n",
    "import numpy as np\n",
    "\n",
    "# # diagnostics\n",
    "predict = np.zeros(NUM_CLASSES)\n",
    "total = np.zeros(NUM_CLASSES)\n",
    "predmat = np.zeros((NUM_CLASSES, NUM_CLASSES))\n",
    "\n",
    "# calibration storage\n",
    "start=0.05\n",
    "step=.05\n",
    "num=21\n",
    "\n",
    "bins=np.arange(0,num)*step+start+ 1e-10\n",
    "bin_total = np.zeros(20)+1e-5\n",
    "bin_correct = np.zeros(20)\n",
    "\n",
    "total_correct = 0.\n",
    "total_total = 0\n",
    "\n",
    "energies = []\n",
    "\n",
    "# test trained network\n",
    "\n",
    "model_dir = MODEL_DIR \n",
    "\n",
    "reconstructed_model = keras.models.load_model(model_dir, compile=False)\n",
    "\n",
    "labels = ['Albendazole','Amoxicillin','Ampicillin','Azithromycin','Benzyl-Penicillin','Blank','Ceftriaxone','Chloroquine','Ciprofloxacin','Doxycycline','Epinephrine', \\\n",
    "          'Ethambutol','Ferrous-Sulfate','Hydroxychloroquine','Isoniazid','Lactose','Promethazine-Hydrochloride','Pyrazinamide','Rifampicin','Ripe','Sulfamethoxazole','Swiped-but-not-run','Tetracycline']\n",
    "\n",
    "# force to lower for finding index\n",
    "for i in range(len(labels)):\n",
    "    labels[i] = labels[i].lower()\n",
    "\n",
    "root = '/mnt/slow_data/pmoreira/datasets/FHI2020_Stratified_Sampling'\n",
    "csvfile = os.path.join(root, 'test_labels.csv')\n",
    "\n",
    "image_folder = os.path.join(root, 'test_images')\n",
    "\n",
    "count = 0"
   ]
  },
  {
   "cell_type": "code",
   "execution_count": null,
   "metadata": {},
   "outputs": [],
   "source": []
  }
 ],
 "metadata": {
  "kernelspec": {
   "display_name": ".venv",
   "language": "python",
   "name": "python3"
  },
  "language_info": {
   "codemirror_mode": {
    "name": "ipython",
    "version": 3
   },
   "file_extension": ".py",
   "mimetype": "text/x-python",
   "name": "python",
   "nbconvert_exporter": "python",
   "pygments_lexer": "ipython3",
   "version": "3.10.8"
  }
 },
 "nbformat": 4,
 "nbformat_minor": 2
}
