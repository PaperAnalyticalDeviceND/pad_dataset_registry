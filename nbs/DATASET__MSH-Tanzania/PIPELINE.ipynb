{
 "cells": [
  {
   "cell_type": "markdown",
   "metadata": {},
   "source": [
    "# **Dataset Pipeline**: **`MSH-Tanzania`**\n",
    "\n",
    "This notebook is for define main steps in `MSH-Tanzania` dataset pipeline.\n",
    "\n",
    "---"
   ]
  },
  {
   "cell_type": "markdown",
   "metadata": {},
   "source": [
    "## 1. Planning (PLN)\n",
    "\n",
    "**Objective:** Define the purpose, scope, and objectives of the dataset. Identify potential data sources and outline the methodology to be used throughout the pipeline."
   ]
  },
  {
   "cell_type": "markdown",
   "metadata": {},
   "source": [
    "- **Define project goals:** \n",
    "  - The dataset will serve for test different solutions on the PAD classification.\n",
    "- **Identify data sources:** \n",
    "  - In the API the Project id is 19.\n",
    "  - The file [MSH-Tanzania-PAD-Summary-of-reads-by-TFDA-and-SB.xlsx](MSH-Tanzania-PAD-Summary-of-reads-by-TFDA-and-SB.xlsx) has the information about the samples to be used in the dataset.\n",
    "  - Other important files are in [PAD-MSH-Tanzania](https://drive.google.com/drive/u/0/folders/0ACcr4dCeZ_cWUk9PVA).\n",
    "- **Consider constraints:** \n",
    "  - no constraints until now."
   ]
  },
  {
   "cell_type": "markdown",
   "metadata": {},
   "source": [
    "## 2. Data Exploration (EXP)\n",
    "\n",
    "**Objective:** Explore and analyze the data available from each identified source to understand its structure, quality, and potential usefulness."
   ]
  },
  {
   "cell_type": "markdown",
   "metadata": {},
   "source": [
    "Until now I have Done Data exploration and saved it in the following notebooks:\n",
    "\n",
    "- [EXP__project-MSH-Tanzania-id-19.ipynb](EXP__project-MSH-Tanzania-id-19.ipynb)"
   ]
  },
  {
   "cell_type": "markdown",
   "metadata": {},
   "source": [
    "## 3. Data Preprocessing (PREP)\n",
    "\n",
    "**Objective:** Clean and preprocess the data to ensure it is standardized, free of errors, and ready for integration.\n"
   ]
  },
  {
   "cell_type": "markdown",
   "metadata": {},
   "source": [
    "## 4. Dataset Compilation & Partitioning (COMP)\n",
    "\n",
    "**Objective:** Integrate data from various sources into a cohesive dataset. Split the data into development and test sets to prepare for model training and evaluation."
   ]
  },
  {
   "cell_type": "markdown",
   "metadata": {},
   "source": [
    "## 5. Reporting and Documentation (RPT)\n",
    "\n",
    "**Objective:** Generate comprehensive reports detailing dataset characteristics, preprocessing steps taken, and any insights gained during exploration.\n",
    "\n",
    "- **Automate reporting:** Create templates for generating reports that summarize key dataset aspects.\n",
    "- **Maintain metadata:** Store detailed metadata alongside the dataset for easy reference.\n",
    "- **Ensure accessibility:** Make reports and datasets readily available to stakeholders, with clear documentation on access and use."
   ]
  }
 ],
 "metadata": {
  "kernelspec": {
   "display_name": ".venv",
   "language": "python",
   "name": "python3"
  },
  "language_info": {
   "name": "python",
   "version": "3.10.8"
  }
 },
 "nbformat": 4,
 "nbformat_minor": 2
}
