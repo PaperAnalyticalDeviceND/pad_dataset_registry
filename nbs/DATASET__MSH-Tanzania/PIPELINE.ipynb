{
 "cells": [
  {
   "cell_type": "markdown",
   "metadata": {},
   "source": [
    "# <a id='toc1_'></a>[**Dataset Pipeline**: **`MSH-Tanzania`**](#toc0_)\n"
   ]
  },
  {
   "cell_type": "markdown",
   "metadata": {},
   "source": [
    "**Table of contents**<a id='toc0_'></a>    \n",
    "- [**Dataset Pipeline**: **`MSH-Tanzania`**](#toc1_)    \n",
    "  - [Planning (PLN)](#toc1_1_)    \n",
    "  - [Data Exploration (EXP)](#toc1_2_)    \n",
    "  - [Data Preprocessing (PREP)](#toc1_3_)    \n",
    "  - [Dataset Compilation & Partitioning (COMP)](#toc1_4_)    \n",
    "  - [Reporting and Documentation (RPT)](#toc1_5_)    \n",
    "\n",
    "<!-- vscode-jupyter-toc-config\n",
    "\tnumbering=false\n",
    "\tanchor=true\n",
    "\tflat=false\n",
    "\tminLevel=1\n",
    "\tmaxLevel=6\n",
    "\t/vscode-jupyter-toc-config -->\n",
    "<!-- THIS CELL WILL BE REPLACED ON TOC UPDATE. DO NOT WRITE YOUR TEXT IN THIS CELL -->"
   ]
  },
  {
   "cell_type": "markdown",
   "metadata": {},
   "source": [
    "---"
   ]
  },
  {
   "cell_type": "markdown",
   "metadata": {},
   "source": [
    "## <a id='toc1_1_'></a>[Planning (PLN)](#toc0_)\n",
    "\n",
    "**Objective:** Define the purpose, scope, and objectives of the dataset. Identify potential data sources and outline the methodology to be used throughout the pipeline."
   ]
  },
  {
   "cell_type": "markdown",
   "metadata": {},
   "source": [
    "- **Define project goals:** \n",
    "  - The dataset will serve for test different solutions on the PAD classification.\n",
    "- **Identify data sources:** \n",
    "  - In the API the Project id is 19.\n",
    "  - The file [MSH-Tanzania-PAD-Summary-of-reads-by-TFDA-and-SB.xlsx](data/raw/MSH-Tanzania-PAD-Summary-of-reads-by-TFDA-and-SB.xlsx) has the information about the samples to be used in the dataset.\n",
    "  - The table `double_blind` in [phpmyadmin](https://pad.crc.nd.edu/phpmyadmin/).\n",
    "  - Other important files are in [PAD-MSH-Tanzania](https://drive.google.com/drive/u/0/folders/0ACcr4dCeZ_cWUk9PVA).\n",
    "- **Consider constraints:** \n",
    "  - no constraints until now."
   ]
  },
  {
   "cell_type": "markdown",
   "metadata": {},
   "source": [
    "## <a id='toc1_2_'></a>[Data Exploration (EXP)](#toc0_)\n",
    "\n",
    "**Objective:** Explore and analyze the data available from each identified source to understand its structure, quality, and potential usefulness."
   ]
  },
  {
   "cell_type": "markdown",
   "metadata": {},
   "source": [
    "**We explored data from three data sources** \n",
    "  - Data from the PAD API for the Project id=19 (MSH-Tanzania)\n",
    "  - Data from the spreadsheet [MSH-Tanzania-PAD-Summary-of-reads-by-TFDA-and-SB.xlsx](MSH-Tanzania-PAD-Summary-of-reads-by-TFDA-and-SB.xlsx)\n",
    "  - The table `double_blind` in [PAD Database](https://pad.crc.nd.edu/phpmyadmin/) database\n",
    "\n",
    "The code for data exploration is in the notebook [EXP__project-MSH-Tanzania.ipynb](EXP__project-MSH-Tanzania.ipynb).\n",
    "\n",
    "The output of this step was saved in the file [data/processed/recovered_data.csv](data/processed/recovered_data.csv)."
   ]
  },
  {
   "cell_type": "markdown",
   "metadata": {},
   "source": [
    "## <a id='toc1_3_'></a>[Data Preprocessing (PREP)](#toc0_)\n",
    "\n",
    "**Objective:** Clean and preprocess the data to ensure it is standardized, free of errors, and ready for integration.\n",
    "\n",
    "- The code for data preprocessing is in the notebook [PREP__project-MSH-Tanzania.ipynb](PREP__project-MSH-Tanzania.ipynb).\n",
    "- The output of this step was saved in the file [data/processed/MSH-Tanzania_metadata_all.csv](data/processed/MSH-Tanzania_metadata_all.csv).\n"
   ]
  },
  {
   "cell_type": "markdown",
   "metadata": {},
   "source": [
    "## <a id='toc1_4_'></a>[Dataset Compilation & Partitioning (COMP)](#toc0_)\n",
    "\n",
    "**Objective:** Integrate data from various sources into a cohesive dataset. Split the data into development and test sets to prepare for model training and evaluation.\n",
    "\n",
    "- [COMP__project-MSH-Tanzania.ipynb](COMP__project-MSH-Tanzania.ipynb)"
   ]
  },
  {
   "cell_type": "markdown",
   "metadata": {},
   "source": [
    "## <a id='toc1_5_'></a>[Reporting and Documentation (RPT)](#toc0_)\n",
    "\n",
    "**Objective:** Generate comprehensive reports detailing dataset characteristics, preprocessing steps taken, and any insights gained during exploration.\n",
    "\n",
    "- **Automate reporting:** Create templates for generating reports that summarize key dataset aspects.\n",
    "- **Maintain metadata:** Store detailed metadata alongside the dataset for easy reference.\n",
    "- **Ensure accessibility:** Make reports and datasets readily available to stakeholders, with clear documentation on access and use."
   ]
  }
 ],
 "metadata": {
  "kernelspec": {
   "display_name": ".venv",
   "language": "python",
   "name": "python3"
  },
  "language_info": {
   "name": "python",
   "version": "3.10.8"
  }
 },
 "nbformat": 4,
 "nbformat_minor": 2
}
